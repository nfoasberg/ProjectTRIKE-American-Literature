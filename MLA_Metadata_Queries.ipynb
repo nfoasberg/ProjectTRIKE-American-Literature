{
 "cells": [
  {
   "cell_type": "markdown",
   "metadata": {},
   "source": [
    "# Extracting Structured Data from a Text File\n",
    "\n",
    "The text file breaks down the data into useful fields. That's great! However, they're all in a text file together, and I'd prefer to have them in a format that I can more easily analyze. \n",
    "\n",
    "There are several ways to extract the data I want.  I'm going to use Python's list function to do it. "
   ]
  },
  {
   "cell_type": "markdown",
   "metadata": {},
   "source": [
    "## Opening the File\n",
    "\n",
    "Please see the instructions on downloading a file from MLA.  \n",
    "\n",
    "When I downloaded the first file, I named it \"1950_readable.txt.\" You should name yours whatever you like, but a .txt file works well for these operations. \n",
    "\n",
    "In the cell below, I open the file, read it, and split the contents into a list in which each line is an item.  I've called it metadata_list and will contiue to refer to it thoroughout this document. "
   ]
  },
  {
   "cell_type": "code",
   "execution_count": 17,
   "metadata": {},
   "outputs": [],
   "source": [
    "infile = open('1950_readable.txt')\n",
    "metadata = infile.read()\n",
    "metadata_list = metadata.split(\"\\n\")"
   ]
  },
  {
   "cell_type": "markdown",
   "metadata": {},
   "source": [
    "## Getting Data\n",
    "\n",
    "The records include very reliable structures, including labels that identify the various fields. If I want the information in the field without the label, I can use Python's list indexes to get it. The script below finds every line that includes the word \"Period:\", counts the characters from the beginning of the line (starting with 0), and prints out the line from the eighth character onward. "
   ]
  },
  {
   "cell_type": "code",
   "execution_count": 2,
   "metadata": {},
   "outputs": [
    {
     "name": "stdout",
     "output_type": "stream",
     "text": [
      "1800-1899\n",
      "1800-1899\n",
      "1800-1899\n",
      "1800-1899\n",
      "1900-1999\n",
      "1800-1899\n",
      "1800-1899\n",
      "1800-1899\n",
      "1900-1999\n",
      "1800-1899\n",
      "1800-1899\n",
      "1900-1999\n",
      "1900-1999\n",
      "1800-1899\n",
      "1800-1899\n",
      "1800-1899\n",
      "1800-1899\n",
      "1700-1799\n",
      "1800-1899\n",
      "1800-1899\n",
      "1800-1899\n",
      "1800-1899\n",
      "1800-1899\n",
      "1800-1899\n",
      "1800-1899\n",
      "1800-1899\n",
      "1800-1899\n",
      "1800-1899\n",
      "1600-1699\n",
      "1900-1999\n",
      "1800-1899\n",
      "1800-1899\n",
      "1800-1899\n",
      "1800-1899\n",
      "1800-1899\n",
      "1900-1999\n",
      "1700-1799\n",
      "1800-1899\n",
      "1800-1899\n",
      "1800-1899\n",
      "1800-1899\n"
     ]
    }
   ],
   "source": [
    "for line in metadata_list:\n",
    "    if \"Period:\" in line:\n",
    "        print(line[8:])"
   ]
  },
  {
   "cell_type": "markdown",
   "metadata": {},
   "source": [
    "This also works for the other fields. \n",
    "\n",
    "I got a little tired of counting the characters, so I found a character-counting tool online. The one I used is here: http://www.charactercountonline.com/  , but I'm sure many others exist. \n",
    "\n",
    "Remember, Python starts counting with 0, so the index value will always be one more than it would be otherwise. "
   ]
  },
  {
   "cell_type": "code",
   "execution_count": 3,
   "metadata": {},
   "outputs": [
    {
     "name": "stdout",
     "output_type": "stream",
     "text": [
      "Lowell, James Russell (1819-1891)\n",
      "Ingraham, Joseph Holt (1809-1860)\n",
      "Irving, Washington (1783-1859)\n",
      "Melville, Herman (1819-1891)\n",
      "James, Henry, Jr. (1843-1916)\n",
      "Emerson, Ralph Waldo (1803-1882)\n",
      "James, Henry, Jr. (1843-1916)\n",
      "role of Flower, Benjamin Orange (1858-1918)\n",
      "role of Harte, Bret (1836-1902)\n",
      "Eliot, T. S. (1888-1965)\n",
      "Philippe, Charles-Louis (1874-1909)\n",
      "Cranch, Christopher Pearse (1813-1892)\n",
      "Melville, Herman (1819-1891)\n",
      "Emerson, Ralph Waldo (1803-1882)\n",
      "Franklin, Benjamin (1706-1790)\n",
      "Dwight, John Sullivan (1813-1893)\n",
      "Longfellow, Henry Wadsworth (1807-1882)\n",
      "Holmes, Oliver Wendell (1809-1894)\n",
      "treatment in Clemens, Samuel (1835-1910)\n",
      "Clemens, Samuel (1835-1910)\n",
      "Poe, Edgar Allan (1809-1849)\n",
      "Melville, Herman (1819-1891)\n",
      "Melville, Herman (1819-1891)\n",
      "Melville, Herman (1819-1891)\n",
      "Cotton, John (1584-1652)\n",
      "Melville, Herman (1819-1891)\n",
      "Whittier, John Greenleaf (1807-1892)\n",
      "Whitman, Walt (1819-1892)\n",
      "Hawthorne, Nathaniel (1804-1864)\n",
      "Melville, Herman (1819-1891)\n",
      "Cather, Willa (1873-1947)\n",
      "Dwight, Timothy (1752-1817)\n",
      "Flint, Timothy (1780-1840)\n",
      "Channing, William Ellery, the Elder (1780-1842)\n",
      "Tocqueville, Alexis-Henri-Charles-Maurice-ClÃ©rel, comte de (1805-1859)\n",
      "Whitman, Walt (1819-1892)\n"
     ]
    }
   ],
   "source": [
    "for line in metadata_list:\n",
    "    if \"Primary Subject Author: \" in line:\n",
    "        print(line[24: ])"
   ]
  },
  {
   "cell_type": "code",
   "execution_count": 75,
   "metadata": {},
   "outputs": [
    {
     "name": "stdout",
     "output_type": "stream",
     "text": [
      "Astoria (1836)\n",
      "The Ambassadors (1903)\n",
      "The Arena (1889-1909)\n",
      "Overland Monthly\n",
      "'Preludes'; 'Rhapsody on a Windy Night'\n",
      "Bubu de Montparnasse; Marie Donadieu\n",
      "The Song of Hiawatha (1855)\n",
      "Kalevala\n",
      "The Autocrat of the Breakfast Table (1858)\n",
      "Roughing It (1872)\n",
      "Billy Budd\n",
      "The Confidence-Man (1857)\n",
      "'The Gentle Boy'\n",
      "Pierre (1852)\n",
      "Remarks on American Literature (1830)\n",
      "La DÃ©mocratie en AmÃ©rique (1835-40)\n"
     ]
    }
   ],
   "source": [
    "for line in metadata_list:\n",
    "    if \"Primary Subject Work:\" in line:\n",
    "        print(line[22:])"
   ]
  },
  {
   "cell_type": "markdown",
   "metadata": {},
   "source": [
    "## Multiple Values in a Field\n",
    "\n",
    "You may come across this in any of these fields! Above, you may notice that some of the fields in question have multiple values separated by semicolons (for instance: prose; manuscript notes).\n",
    "When you're working with the data in a CSV file, you don't want that.  So, how can you separate them? \n",
    "\n",
    "I started by running them through another list:"
   ]
  },
  {
   "cell_type": "code",
   "execution_count": 8,
   "metadata": {},
   "outputs": [
    {
     "name": "stdout",
     "output_type": "stream",
     "text": [
      "['Astoria (1836)', 'The Ambassadors (1903)', 'The Arena (1889-1909)', 'Overland Monthly', \"'Preludes'; 'Rhapsody on a Windy Night'\", 'Bubu de Montparnasse; Marie Donadieu', 'The Song of Hiawatha (1855)', 'Kalevala', 'The Autocrat of the Breakfast Table (1858)', 'Roughing It (1872)', 'Billy Budd', 'The Confidence-Man (1857)', \"'The Gentle Boy'\", 'Pierre (1852)', 'Remarks on American Literature (1830)', 'La DÃ©mocratie en AmÃ©rique (1835-40)']\n"
     ]
    }
   ],
   "source": [
    "work_list_1950 = []\n",
    "for line in metadata_list:\n",
    "    if \"Primary Subject Work\" in line:\n",
    "        work_list_1950.append(line[22:])\n",
    "print(work_list_1950)"
   ]
  },
  {
   "cell_type": "markdown",
   "metadata": {},
   "source": [
    "... and then turning that work back into a string, and splitting it up on the semicolons.  \n",
    "\n",
    "There are probably more elegant ways to do this, but this has the virtue of (relative) clarity, and it works."
   ]
  },
  {
   "cell_type": "code",
   "execution_count": 9,
   "metadata": {},
   "outputs": [
    {
     "name": "stdout",
     "output_type": "stream",
     "text": [
      "; Astoria (1836); The Ambassadors (1903); The Arena (1889-1909); Overland Monthly; 'Preludes'; 'Rhapsody on a Windy Night'; Bubu de Montparnasse; Marie Donadieu; The Song of Hiawatha (1855); Kalevala; The Autocrat of the Breakfast Table (1858); Roughing It (1872); Billy Budd; The Confidence-Man (1857); 'The Gentle Boy'; Pierre (1852); Remarks on American Literature (1830); La DÃ©mocratie en AmÃ©rique (1835-40)\n",
      "\n",
      "Astoria (1836)\n",
      "The Ambassadors (1903)\n",
      "The Arena (1889-1909)\n",
      "Overland Monthly\n",
      "'Preludes'\n",
      "'Rhapsody on a Windy Night'\n",
      "Bubu de Montparnasse\n",
      "Marie Donadieu\n",
      "The Song of Hiawatha (1855)\n",
      "Kalevala\n",
      "The Autocrat of the Breakfast Table (1858)\n",
      "Roughing It (1872)\n",
      "Billy Budd\n",
      "The Confidence-Man (1857)\n",
      "'The Gentle Boy'\n",
      "Pierre (1852)\n",
      "Remarks on American Literature (1830)\n",
      "La DÃ©mocratie en AmÃ©rique (1835-40)\n"
     ]
    }
   ],
   "source": [
    "work_string = \"\"\n",
    "for line in work_list_1950:\n",
    "    work_string = work_string + \"; \" + line\n",
    "print(work_string)\n",
    "new_list = work_string.split(\"; \")\n",
    "for line in new_list:\n",
    "    print(line)"
   ]
  },
  {
   "cell_type": "code",
   "execution_count": 10,
   "metadata": {},
   "outputs": [
    {
     "name": "stdout",
     "output_type": "stream",
     "text": [
      "\n",
      "poetry\n",
      "and prose\n",
      "prose\n",
      "novel\n",
      "poetry\n",
      "novel\n",
      "poetry\n",
      "and prose\n",
      "prose\n",
      "translation\n",
      "poetry\n",
      "prose\n",
      "prose\n",
      "novel\n",
      "novel\n",
      "novel\n",
      "prose\n",
      "manuscript notes\n",
      "source study\n",
      "short story\n",
      "novel\n",
      "criticism\n",
      "prose\n",
      "prose\n",
      "manuscript notes\n"
     ]
    }
   ],
   "source": [
    "classification_list_1950 = []\n",
    "for line in metadata_list:\n",
    "    if \"Classification: \" in line:\n",
    "        classification_list_1950.append(line[16:])\n",
    "classification_string = \"\"\n",
    "for line in classification_list_1950:\n",
    "    classification_string = classification_string + \"; \" + line\n",
    "new_list = classification_string.split(\"; \")\n",
    "for line in new_list:\n",
    "    print(line)"
   ]
  },
  {
   "cell_type": "markdown",
   "metadata": {},
   "source": [
    "## The Subject Terms\n",
    "\n",
    "Now we come to the trickiest part of this, the descriptive subject terms. The methods used above don't quite work here, because the field label (\"Subject Terms\") and the content of the field are on two different lines, like this:\n",
    "\n",
    "Subject Terms:\n",
    "sources in classical literature\n",
    "\n",
    "...so the task is to find the line _below_ the subject line and capture that.  The solution below relies on the fact that the document is now a list, so it relies on the index of the line, and prints out the line below (line_number + 1)"
   ]
  },
  {
   "cell_type": "code",
   "execution_count": 12,
   "metadata": {},
   "outputs": [
    {
     "name": "stdout",
     "output_type": "stream",
     "text": [
      "; sources in classical literature; sources in Stuart, Robert; 'Manuscript Journal'; bibliography; relationship to textual errors; in chapters; bibliography; relationship to social reform; muckrakers; sources in Philippe, Charles-Louis (1874-1909); Bubu de Montparnasse; Marie Donadieu; influence on Eliot, T. S. (1888-1965); 'Preludes'; 'Rhapsody on a Windy Night'; relationship to literary career; canon; includes biographical information; relationship to mysticism; English language translation; of German Romantic writers; on English language translation; by Dwight, John Sullivan (1813-1893); sources in Kalevala; influence on Longfellow, Henry Wadsworth (1807-1882); The Song of Hiawatha (1855); treatment in lecture; includes edition; irony; treatment in criticism; tone; in anecdote; bibliography; treatment in book review; in religious periodicals (1846-1849); treatment of Pearson, Tobias (character); relationship to ambiguity; in narrative structure; compared to Glendinning, Pierre (character); in Melville, Herman (1819-1891); Pierre (1852); treatment of romantic love; of characters; on democracy; relationship to literary production; influence on Tocqueville, Alexis-Henri-Charles-Maurice-ClÃ©rel, comte de (1805-1859); La DÃ©mocratie en AmÃ©rique (1835-40); treatment of democracy; relationship to literary production; sources in Channing, William Ellery, the Elder (1780-1842); Remarks on American Literature (1830); treatment of oratory\n"
     ]
    }
   ],
   "source": [
    "line_number = 0\n",
    "subject_list = \"\"\n",
    "while line_number < len(metadata_list):\n",
    "    if \"Subject Terms\" in metadata_list[line_number]:\n",
    "        subject_term = metadata_list[line_number + 1]\n",
    "        subject_list = subject_list + \"; \" + str(subject_term)\n",
    "    line_number = line_number + 1\n",
    "print(subject_list)"
   ]
  },
  {
   "cell_type": "code",
   "execution_count": 13,
   "metadata": {},
   "outputs": [
    {
     "name": "stdout",
     "output_type": "stream",
     "text": [
      "\n",
      "sources in classical literature\n",
      "sources in Stuart, Robert\n",
      "'Manuscript Journal'\n",
      "bibliography\n",
      "relationship to textual errors\n",
      "in chapters\n",
      "bibliography\n",
      "relationship to social reform\n",
      "muckrakers\n",
      "sources in Philippe, Charles-Louis (1874-1909)\n",
      "Bubu de Montparnasse\n",
      "Marie Donadieu\n",
      "influence on Eliot, T. S. (1888-1965)\n",
      "'Preludes'\n",
      "'Rhapsody on a Windy Night'\n",
      "relationship to literary career\n",
      "canon\n",
      "includes biographical information\n",
      "relationship to mysticism\n",
      "English language translation\n",
      "of German Romantic writers\n",
      "on English language translation\n",
      "by Dwight, John Sullivan (1813-1893)\n",
      "sources in Kalevala\n",
      "influence on Longfellow, Henry Wadsworth (1807-1882)\n",
      "The Song of Hiawatha (1855)\n",
      "treatment in lecture\n",
      "includes edition\n",
      "irony\n",
      "treatment in criticism\n",
      "tone\n",
      "in anecdote\n",
      "bibliography\n",
      "treatment in book review\n",
      "in religious periodicals (1846-1849)\n",
      "treatment of Pearson, Tobias (character)\n",
      "relationship to ambiguity\n",
      "in narrative structure\n",
      "compared to Glendinning, Pierre (character)\n",
      "in Melville, Herman (1819-1891)\n",
      "Pierre (1852)\n",
      "treatment of romantic love\n",
      "of characters\n",
      "on democracy\n",
      "relationship to literary production\n",
      "influence on Tocqueville, Alexis-Henri-Charles-Maurice-ClÃ©rel, comte de (1805-1859)\n",
      "La DÃ©mocratie en AmÃ©rique (1835-40)\n",
      "treatment of democracy\n",
      "relationship to literary production\n",
      "sources in Channing, William Ellery, the Elder (1780-1842)\n",
      "Remarks on American Literature (1830)\n",
      "treatment of oratory\n"
     ]
    }
   ],
   "source": [
    "nicer_list = subject_list.split(\"; \")\n",
    "for item in nicer_list:\n",
    "    print(item)"
   ]
  },
  {
   "cell_type": "markdown",
   "metadata": {},
   "source": [
    "Always remember to close your files when you're done!"
   ]
  },
  {
   "cell_type": "code",
   "execution_count": 18,
   "metadata": {},
   "outputs": [],
   "source": [
    "infile.close()"
   ]
  },
  {
   "cell_type": "markdown",
   "metadata": {},
   "source": [
    "## Next Steps\n",
    "\n",
    "I have three files, so I repeated these steps for each of them."
   ]
  }
 ],
 "metadata": {
  "kernelspec": {
   "display_name": "Python 3",
   "language": "python",
   "name": "python3"
  },
  "language_info": {
   "codemirror_mode": {
    "name": "ipython",
    "version": 3
   },
   "file_extension": ".py",
   "mimetype": "text/x-python",
   "name": "python",
   "nbconvert_exporter": "python",
   "pygments_lexer": "ipython3",
   "version": "3.7.1"
  }
 },
 "nbformat": 4,
 "nbformat_minor": 2
}
