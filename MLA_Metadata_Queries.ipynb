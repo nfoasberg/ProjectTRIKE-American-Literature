{
 "cells": [
  {
   "cell_type": "markdown",
   "metadata": {},
   "source": [
    "# Extracting Structured Data from a Text File\n",
    "\n",
    "The text file breaks down the data into useful fields. That's great! However, they're all in a text file together, and I'd prefer to have them in a format that I can more easily analyze. \n",
    "\n",
    "There are several ways to extract the data I want.  I'm going to use Python's list function to do it. "
   ]
  },
  {
   "cell_type": "markdown",
   "metadata": {},
   "source": [
    "## Opening the File\n",
    "\n",
    "Please see the instructions on downloading a file from MLA.  \n",
    "\n",
    "When I downloaded the file, I named it \"1950_readable.txt.\" You should name yours whatever you like, but a .txt file works well for these operations. \n",
    "\n",
    "In the cell below, I open the file, read it, and split the contents into a list in which each line is an item.  I've called it metadata_list and will contiue to refer to it thoroughout this document. "
   ]
  },
  {
   "cell_type": "code",
   "execution_count": 72,
   "metadata": {},
   "outputs": [],
   "source": [
    "infile = open('1950_readable.txt')\n",
    "metadata = infile.read()\n",
    "metadata_list = metadata.split(\"\\n\")"
   ]
  },
  {
   "cell_type": "markdown",
   "metadata": {},
   "source": [
    "## Getting Data\n",
    "\n",
    "The records include very reliable structures, including labels that identify the various fields. If I want the information in the field without the label, I can use Python's list indexes to get it. The script below finds every line that includes the word \"Period:\", counts the characters from the beginning of the line (starting with 0), and prints out the line from the eighth character onward. "
   ]
  },
  {
   "cell_type": "code",
   "execution_count": 73,
   "metadata": {},
   "outputs": [
    {
     "name": "stdout",
     "output_type": "stream",
     "text": [
      "1800-1899\n",
      "1800-1899\n",
      "1800-1899\n",
      "1800-1899\n",
      "1900-1999\n",
      "1800-1899\n",
      "1800-1899\n",
      "1800-1899\n",
      "1900-1999\n",
      "1800-1899\n",
      "1800-1899\n",
      "1900-1999\n",
      "1900-1999\n",
      "1800-1899\n",
      "1800-1899\n",
      "1800-1899\n",
      "1800-1899\n",
      "1700-1799\n",
      "1800-1899\n",
      "1800-1899\n",
      "1800-1899\n",
      "1800-1899\n",
      "1800-1899\n",
      "1800-1899\n",
      "1800-1899\n",
      "1800-1899\n",
      "1800-1899\n",
      "1800-1899\n",
      "1600-1699\n",
      "1900-1999\n",
      "1800-1899\n",
      "1800-1899\n",
      "1800-1899\n",
      "1800-1899\n",
      "1800-1899\n",
      "1900-1999\n",
      "1700-1799\n",
      "1800-1899\n",
      "1800-1899\n",
      "1800-1899\n",
      "1800-1899\n"
     ]
    }
   ],
   "source": [
    "for line in metadata_list:\n",
    "    if \"Period:\" in line:\n",
    "        print(line[8:])"
   ]
  },
  {
   "cell_type": "markdown",
   "metadata": {},
   "source": [
    "This also works for the other fields. \n",
    "\n",
    "I got a little tired of counting the characters, so I found a character-counting tool online. The one I used is here: http://www.charactercountonline.com/  , but I'm sure many others exist. \n",
    "\n",
    "Remember, Python starts counting with 0, so the index value will always be one more than it would be otherwise. "
   ]
  },
  {
   "cell_type": "code",
   "execution_count": 74,
   "metadata": {},
   "outputs": [
    {
     "name": "stdout",
     "output_type": "stream",
     "text": [
      "Lowell, James Russell (1819-1891)\n",
      "Ingraham, Joseph Holt (1809-1860)\n",
      "Irving, Washington (1783-1859)\n",
      "Melville, Herman (1819-1891)\n",
      "James, Henry, Jr. (1843-1916)\n",
      "Emerson, Ralph Waldo (1803-1882)\n",
      "James, Henry, Jr. (1843-1916)\n",
      "role of Flower, Benjamin Orange (1858-1918)\n",
      "role of Harte, Bret (1836-1902)\n",
      "Eliot, T. S. (1888-1965)\n",
      "Philippe, Charles-Louis (1874-1909)\n",
      "Cranch, Christopher Pearse (1813-1892)\n",
      "Melville, Herman (1819-1891)\n",
      "Emerson, Ralph Waldo (1803-1882)\n",
      "Franklin, Benjamin (1706-1790)\n",
      "Dwight, John Sullivan (1813-1893)\n",
      "Longfellow, Henry Wadsworth (1807-1882)\n",
      "Holmes, Oliver Wendell (1809-1894)\n",
      "treatment in Clemens, Samuel (1835-1910)\n",
      "Clemens, Samuel (1835-1910)\n",
      "Poe, Edgar Allan (1809-1849)\n",
      "Melville, Herman (1819-1891)\n",
      "Melville, Herman (1819-1891)\n",
      "Melville, Herman (1819-1891)\n",
      "Cotton, John (1584-1652)\n",
      "Melville, Herman (1819-1891)\n",
      "Whittier, John Greenleaf (1807-1892)\n",
      "Whitman, Walt (1819-1892)\n",
      "Hawthorne, Nathaniel (1804-1864)\n",
      "Melville, Herman (1819-1891)\n",
      "Cather, Willa (1873-1947)\n",
      "Dwight, Timothy (1752-1817)\n",
      "Flint, Timothy (1780-1840)\n",
      "Channing, William Ellery, the Elder (1780-1842)\n",
      "Tocqueville, Alexis-Henri-Charles-Maurice-ClÃ©rel, comte de (1805-1859)\n",
      "Whitman, Walt (1819-1892)\n"
     ]
    }
   ],
   "source": [
    "for line in metadata_list:\n",
    "    if \"Primary Subject Author: \" in line:\n",
    "        print(line[24: ])"
   ]
  },
  {
   "cell_type": "code",
   "execution_count": 75,
   "metadata": {},
   "outputs": [
    {
     "name": "stdout",
     "output_type": "stream",
     "text": [
      "Astoria (1836)\n",
      "The Ambassadors (1903)\n",
      "The Arena (1889-1909)\n",
      "Overland Monthly\n",
      "'Preludes'; 'Rhapsody on a Windy Night'\n",
      "Bubu de Montparnasse; Marie Donadieu\n",
      "The Song of Hiawatha (1855)\n",
      "Kalevala\n",
      "The Autocrat of the Breakfast Table (1858)\n",
      "Roughing It (1872)\n",
      "Billy Budd\n",
      "The Confidence-Man (1857)\n",
      "'The Gentle Boy'\n",
      "Pierre (1852)\n",
      "Remarks on American Literature (1830)\n",
      "La DÃ©mocratie en AmÃ©rique (1835-40)\n"
     ]
    }
   ],
   "source": [
    "for line in metadata_list:\n",
    "    if \"Primary Subject Work:\" in line:\n",
    "        print(line[22:])"
   ]
  },
  {
   "cell_type": "code",
   "execution_count": 76,
   "metadata": {},
   "outputs": [
    {
     "name": "stdout",
     "output_type": "stream",
     "text": [
      "poetry; and prose\n",
      "prose\n",
      "novel\n",
      "poetry\n",
      "novel\n",
      "poetry; and prose\n",
      "prose\n",
      "translation\n",
      "poetry\n",
      "prose\n",
      "prose\n",
      "novel\n",
      "novel\n",
      "novel\n",
      "prose; manuscript notes; source study\n",
      "short story\n",
      "novel\n",
      "criticism\n",
      "prose\n",
      "prose; manuscript notes\n"
     ]
    }
   ],
   "source": [
    "classification_list_1950 = []\n",
    "for line in metadata_list:\n",
    "    if \"Classification: \" in line:\n",
    "        print(line[16:])\n",
    "        classification_list_1950.append(line[16:])"
   ]
  },
  {
   "cell_type": "markdown",
   "metadata": {},
   "source": [
    "## Multiple Values in a Field\n",
    "\n",
    "You may come across this in any of these fields! Above, you may notice that the fields in question have multiple values separated by semicolons (for instance: prose; manuscript notes).\n",
    "When you're working with the data in a CSV file, you don't want that.  So, how can you separate them? "
   ]
  },
  {
   "cell_type": "code",
   "execution_count": 77,
   "metadata": {},
   "outputs": [
    {
     "name": "stdout",
     "output_type": "stream",
     "text": [
      "['poetry', ' and prose']\n",
      "['prose']\n",
      "['novel']\n",
      "['poetry']\n",
      "['novel']\n",
      "['poetry', ' and prose']\n",
      "['prose']\n",
      "['translation']\n",
      "['poetry']\n",
      "['prose']\n",
      "['prose']\n",
      "['novel']\n",
      "['novel']\n",
      "['novel']\n",
      "['prose', ' manuscript notes', ' source study']\n",
      "['short story']\n",
      "['novel']\n",
      "['criticism']\n",
      "['prose']\n",
      "['prose', ' manuscript notes']\n"
     ]
    }
   ],
   "source": [
    "separated_list_1950 = []\n",
    "for line in classification_list_1950:\n",
    "    print(line.split(\";\"))"
   ]
  },
  {
   "cell_type": "code",
   "execution_count": 78,
   "metadata": {},
   "outputs": [
    {
     "name": "stdout",
     "output_type": "stream",
     "text": [
      "sources in classical literature\n",
      "sources in classical literature\n",
      "sources in classical literature\n",
      "sources in classical literature\n",
      "sources in classical literature\n",
      "sources in classical literature\n",
      "sources in classical literature\n",
      "sources in classical literature\n",
      "sources in classical literature\n",
      "sources in classical literature\n",
      "sources in classical literature\n",
      "sources in classical literature\n",
      "sources in classical literature\n",
      "sources in classical literature\n",
      "sources in classical literature\n",
      "sources in classical literature\n",
      "sources in classical literature\n",
      "sources in classical literature\n",
      "sources in classical literature\n",
      "sources in classical literature\n",
      "sources in classical literature\n",
      "sources in classical literature\n",
      "sources in classical literature\n",
      "sources in classical literature\n"
     ]
    }
   ],
   "source": [
    "#this doesn't work and it's weird\n",
    "for line in metadata_list:\n",
    "    if \"Subject Terms\" in line:\n",
    "        label_line = metadata_list.index(line)\n",
    "        print(metadata_list[label_line + 1])\n",
    "    else:\n",
    "        pass"
   ]
  },
  {
   "cell_type": "markdown",
   "metadata": {},
   "source": [
    "Always remember to close your files when you're done!"
   ]
  },
  {
   "cell_type": "code",
   "execution_count": 79,
   "metadata": {},
   "outputs": [],
   "source": [
    "infile.close()"
   ]
  },
  {
   "cell_type": "markdown",
   "metadata": {},
   "source": [
    "## Next Steps\n",
    "\n",
    "I have three files, so I repeated these steps for each of them."
   ]
  }
 ],
 "metadata": {
  "kernelspec": {
   "display_name": "Python 3",
   "language": "python",
   "name": "python3"
  },
  "language_info": {
   "codemirror_mode": {
    "name": "ipython",
    "version": 3
   },
   "file_extension": ".py",
   "mimetype": "text/x-python",
   "name": "python",
   "nbconvert_exporter": "python",
   "pygments_lexer": "ipython3",
   "version": "3.7.1"
  }
 },
 "nbformat": 4,
 "nbformat_minor": 2
}
